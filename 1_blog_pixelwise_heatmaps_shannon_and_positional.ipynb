{
 "cells": [
  {
   "cell_type": "markdown",
   "metadata": {
    "deletable": true,
    "editable": true
   },
   "source": [
    "<b>Imports</b>"
   ]
  },
  {
   "cell_type": "code",
   "execution_count": 1,
   "metadata": {
    "collapsed": true,
    "deletable": true,
    "editable": true
   },
   "outputs": [],
   "source": [
    "import matplotlib.pyplot as plt\n",
    "from math import log, factorial, fmod\n",
    "import numpy as np\n",
    "import itertools\n",
    "import random\n",
    "import sys\n",
    "import time\n",
    "\n",
    "%matplotlib inline\n",
    "\n",
    "### python 2 , 3 hack\n",
    "try:\n",
    "   xrange\n",
    "except NameError:\n",
    "   xrange = range"
   ]
  },
  {
   "cell_type": "markdown",
   "metadata": {
    "deletable": true,
    "editable": true
   },
   "source": [
    "<b>used Alphabet</b>"
   ]
  },
  {
   "cell_type": "code",
   "execution_count": 2,
   "metadata": {
    "collapsed": false,
    "deletable": true,
    "editable": true
   },
   "outputs": [],
   "source": [
    "###63 (7x9)\n",
    "\n",
    "font_x=7 #5\n",
    "font_y=9 #5\n",
    "\n",
    "dd=([0, 1, 1, 1, 1, 1, 0, 1, 0, 0, 0, 0, 0, 1, 1, 0, 0, 0, 0, 0, 1, 1, 0, 0, 0, 0, 0, 1, 1, 0, 0, 0, 0, 0, 1, 1, 1, 1, 1, 1, 1, 1, 1, 0, 0, 0, 0, 0, 1, 1, 0, 0, 0, 0, 0, 1, 1, 0, 0, 0, 0, 0, 1],\n",
    "[1, 1, 1, 1, 1, 1, 0, 1, 0, 0, 0, 0, 0, 1, 1, 0, 0, 0, 0, 0, 1, 1, 0, 0, 0, 0, 0, 1, 1, 1, 1, 1, 1, 1, 0, 1, 0, 0, 0, 0, 0, 1, 1, 0, 0, 0, 0, 0, 1, 1, 0, 0, 0, 0, 0, 1, 1, 1, 1, 1, 1, 1, 0],\n",
    "[0, 1, 1, 1, 1, 1, 0, 1, 0, 0, 0, 0, 1, 1, 1, 0, 0, 0, 0, 0, 0, 1, 0, 0, 0, 0, 0, 0, 1, 0, 0, 0, 0, 0, 0, 1, 0, 0, 0, 0, 0, 0, 1, 0, 0, 0, 0, 0, 0, 1, 0, 0, 0, 0, 1, 1, 0, 1, 1, 1, 1, 1, 0],\n",
    "[1, 1, 1, 1, 1, 1, 0, 1, 0, 0, 0, 0, 1, 1, 1, 0, 0, 0, 0, 0, 1, 1, 0, 0, 0, 0, 0, 1, 1, 0, 0, 0, 0, 0, 1, 1, 0, 0, 0, 0, 0, 1, 1, 0, 0, 0, 0, 0, 1, 1, 0, 0, 0, 0, 1, 1, 1, 1, 1, 1, 1, 1, 0],\n",
    "[1, 1, 1, 1, 1, 1, 0, 1, 0, 0, 0, 0, 1, 1, 1, 0, 0, 0, 0, 0, 0, 1, 0, 0, 0, 0, 0, 0, 1, 1, 1, 1, 1, 0, 0, 1, 0, 0, 0, 0, 0, 0, 1, 0, 0, 0, 0, 0, 0, 1, 0, 0, 0, 0, 1, 1, 1, 1, 1, 1, 1, 1, 0],\n",
    "[1, 1, 1, 1, 1, 1, 0, 1, 0, 0, 0, 0, 1, 1, 1, 0, 0, 0, 0, 0, 0, 1, 0, 0, 0, 0, 0, 0, 1, 1, 1, 1, 1, 0, 0, 1, 0, 0, 0, 0, 0, 0, 1, 0, 0, 0, 0, 0, 0, 1, 0, 0, 0, 0, 0, 0, 1, 0, 0, 0, 0, 0, 0],\n",
    "[0, 1, 1, 1, 1, 1, 0, 1, 0, 0, 0, 0, 0, 1, 1, 0, 0, 0, 0, 0, 0, 1, 0, 0, 0, 0, 0, 0, 1, 0, 0, 1, 1, 1, 1, 1, 0, 0, 0, 0, 0, 1, 1, 0, 0, 0, 0, 0, 1, 1, 0, 0, 0, 0, 0, 1, 0, 1, 1, 1, 1, 1, 0],\n",
    "[1, 0, 0, 0, 0, 0, 1, 1, 0, 0, 0, 0, 0, 1, 1, 0, 0, 0, 0, 0, 1, 1, 0, 0, 0, 0, 0, 1, 1, 1, 1, 1, 1, 1, 1, 1, 0, 0, 0, 0, 0, 1, 1, 0, 0, 0, 0, 0, 1, 1, 0, 0, 0, 0, 0, 1, 1, 0, 0, 0, 0, 0, 1],\n",
    "[1, 1, 1, 1, 1, 1, 1, 0, 0, 0, 1, 0, 0, 0, 0, 0, 0, 1, 0, 0, 0, 0, 0, 0, 1, 0, 0, 0, 0, 0, 0, 1, 0, 0, 0, 0, 0, 0, 1, 0, 0, 0, 0, 0, 0, 1, 0, 0, 0, 0, 0, 0, 1, 0, 0, 0, 1, 1, 1, 1, 1, 1, 1],\n",
    "[0, 0, 0, 0, 0, 0, 1, 0, 0, 0, 0, 0, 0, 1, 0, 0, 0, 0, 0, 0, 1, 0, 0, 0, 0, 0, 0, 1, 0, 0, 0, 0, 0, 0, 1, 1, 0, 0, 0, 0, 0, 1, 1, 0, 0, 0, 0, 0, 1, 1, 0, 0, 0, 0, 0, 1, 0, 1, 1, 1, 1, 1, 0],\n",
    "[1, 0, 0, 0, 0, 1, 1, 1, 0, 0, 0, 0, 1, 0, 1, 0, 0, 0, 1, 0, 0, 1, 0, 0, 1, 1, 0, 0, 1, 1, 1, 1, 0, 0, 0, 1, 0, 0, 1, 1, 0, 0, 1, 0, 0, 0, 1, 0, 0, 1, 0, 0, 0, 0, 1, 0, 1, 0, 0, 0, 0, 1, 1],\n",
    "[1, 0, 0, 0, 0, 0, 0, 1, 0, 0, 0, 0, 0, 0, 1, 0, 0, 0, 0, 0, 0, 1, 0, 0, 0, 0, 0, 0, 1, 0, 0, 0, 0, 0, 0, 1, 0, 0, 0, 0, 0, 0, 1, 0, 0, 0, 0, 0, 0, 1, 0, 0, 0, 0, 1, 1, 1, 1, 1, 1, 1, 1, 0],\n",
    "[0, 1, 1, 0, 1, 1, 0, 0, 1, 1, 1, 1, 1, 0, 1, 0, 0, 1, 0, 0, 1, 1, 0, 0, 1, 0, 0, 1, 1, 0, 0, 1, 0, 0, 1, 1, 0, 0, 1, 0, 0, 1, 1, 0, 0, 1, 0, 0, 1, 1, 0, 0, 1, 0, 0, 1, 1, 0, 0, 1, 0, 0, 1],\n",
    "[0, 1, 1, 0, 0, 0, 1, 1, 1, 1, 0, 0, 0, 1, 1, 0, 1, 1, 0, 0, 1, 1, 0, 1, 1, 0, 0, 1, 1, 0, 0, 1, 0, 0, 1, 1, 0, 0, 1, 1, 0, 1, 1, 0, 0, 1, 1, 0, 1, 1, 0, 0, 0, 1, 1, 1, 1, 0, 0, 0, 1, 1, 0],\n",
    "[0, 1, 1, 1, 1, 1, 0, 1, 0, 0, 0, 0, 0, 1, 1, 0, 0, 0, 0, 0, 1, 1, 0, 0, 0, 0, 0, 1, 1, 0, 0, 0, 0, 0, 1, 1, 0, 0, 0, 0, 0, 1, 1, 0, 0, 0, 0, 0, 1, 1, 0, 0, 0, 0, 0, 1, 0, 1, 1, 1, 1, 1, 0],\n",
    "[1, 1, 1, 1, 1, 1, 0, 1, 0, 0, 0, 0, 0, 1, 1, 0, 0, 0, 0, 0, 1, 1, 0, 0, 0, 0, 0, 1, 1, 0, 0, 0, 0, 0, 1, 1, 1, 1, 1, 1, 1, 0, 1, 0, 0, 0, 0, 0, 0, 1, 0, 0, 0, 0, 0, 0, 1, 0, 0, 0, 0, 0, 0],\n",
    "[0, 1, 1, 1, 1, 1, 0, 1, 0, 0, 0, 0, 0, 1, 1, 0, 0, 0, 0, 0, 1, 1, 0, 0, 0, 0, 0, 1, 1, 0, 0, 1, 0, 0, 1, 1, 0, 0, 1, 1, 0, 1, 1, 0, 0, 0, 1, 0, 1, 1, 0, 0, 0, 1, 1, 1, 0, 1, 1, 1, 1, 1, 0],\n",
    "[1, 1, 1, 1, 1, 1, 0, 1, 0, 0, 0, 0, 0, 1, 1, 0, 0, 0, 0, 0, 1, 1, 0, 0, 0, 0, 0, 1, 1, 1, 1, 1, 1, 1, 0, 1, 1, 1, 0, 0, 0, 0, 1, 0, 1, 1, 0, 0, 0, 1, 0, 0, 0, 1, 1, 0, 1, 0, 0, 0, 0, 1, 1],\n",
    "[0, 1, 1, 1, 1, 1, 0, 1, 1, 0, 0, 0, 1, 1, 1, 0, 0, 0, 0, 0, 1, 1, 1, 0, 0, 0, 0, 0, 0, 1, 1, 1, 1, 1, 0, 0, 0, 0, 0, 0, 1, 1, 1, 0, 0, 0, 0, 0, 1, 1, 1, 0, 0, 0, 1, 1, 0, 1, 1, 1, 1, 1, 0],\n",
    "[0, 1, 1, 1, 1, 1, 0, 1, 1, 0, 1, 0, 1, 1, 0, 0, 0, 1, 0, 0, 0, 0, 0, 0, 1, 0, 0, 0, 0, 0, 0, 1, 0, 0, 0, 0, 0, 0, 1, 0, 0, 0, 0, 0, 0, 1, 0, 0, 0, 0, 0, 0, 1, 0, 0, 0, 0, 0, 0, 1, 0, 0, 0],\n",
    "[1, 0, 0, 0, 0, 0, 1, 1, 0, 0, 0, 0, 0, 1, 1, 0, 0, 0, 0, 0, 1, 1, 0, 0, 0, 0, 0, 1, 1, 0, 0, 0, 0, 0, 1, 1, 0, 0, 0, 0, 0, 1, 1, 0, 0, 0, 0, 0, 1, 1, 0, 0, 0, 0, 0, 1, 0, 1, 1, 1, 1, 1, 0],\n",
    "[0, 1, 0, 0, 0, 0, 1, 0, 1, 0, 0, 0, 0, 1, 0, 1, 0, 0, 0, 0, 1, 0, 1, 1, 0, 0, 1, 1, 0, 0, 1, 0, 0, 1, 0, 0, 0, 1, 0, 0, 1, 0, 0, 0, 1, 0, 0, 1, 0, 0, 0, 1, 1, 1, 1, 0, 0, 0, 0, 1, 1, 0, 0],\n",
    "[1, 0, 0, 1, 0, 0, 1, 1, 0, 0, 1, 0, 0, 1, 1, 0, 0, 1, 0, 0, 1, 1, 0, 0, 1, 0, 0, 1, 1, 0, 0, 1, 0, 0, 1, 1, 0, 0, 1, 0, 0, 1, 1, 0, 0, 1, 0, 0, 1, 0, 1, 1, 1, 1, 1, 0, 0, 1, 1, 0, 1, 1, 0],\n",
    "[1, 0, 0, 0, 0, 0, 1, 1, 0, 0, 0, 0, 0, 1, 1, 1, 0, 0, 0, 1, 1, 0, 1, 1, 0, 1, 1, 0, 0, 0, 1, 1, 1, 0, 0, 0, 1, 1, 0, 1, 1, 0, 1, 1, 0, 0, 0, 1, 1, 1, 0, 0, 0, 0, 0, 1, 1, 0, 0, 0, 0, 0, 1],\n",
    "[1, 0, 0, 0, 0, 0, 1, 1, 0, 0, 0, 0, 0, 1, 1, 0, 0, 0, 0, 0, 1, 1, 0, 0, 0, 0, 0, 1, 0, 1, 1, 1, 1, 1, 1, 0, 0, 0, 0, 0, 0, 1, 1, 0, 0, 0, 0, 0, 1, 1, 1, 0, 0, 0, 0, 1, 0, 1, 1, 1, 1, 1, 0],\n",
    "[1, 1, 1, 1, 1, 1, 0, 0, 0, 0, 0, 0, 1, 1, 0, 0, 0, 0, 0, 1, 0, 0, 0, 0, 0, 1, 0, 0, 0, 0, 0, 1, 0, 0, 0, 0, 0, 1, 0, 0, 0, 0, 0, 1, 0, 0, 0, 0, 0, 1, 1, 0, 0, 0, 0, 0, 0, 1, 1, 1, 1, 1, 1])\n",
    "\n",
    "\n",
    "\n"
   ]
  },
  {
   "cell_type": "code",
   "execution_count": 3,
   "metadata": {
    "collapsed": false,
    "deletable": true,
    "editable": true
   },
   "outputs": [
    {
     "data": {
      "image/png": "[encoded data removed]",
      "text/plain": [
       "<matplotlib.figure.Figure at 0x10aea4890>"
      ]
     },
     "metadata": {},
     "output_type": "display_data"
    }
   ],
   "source": [
    "def printAlphabet(z, h, w):### und grösse abfragen mit SHAPEE, sonst 34,28 hard codeed!!!\n",
    "    Z = np.array(z)\n",
    "    #print (h, w)\n",
    "    fig = plt.figure(figsize=(20, 20*Z.shape[0]/float(Z.shape[1])))\n",
    "    for a in range(len(z)):\n",
    "        ax = fig.add_subplot(1,len(Z),a+1)\n",
    "        c=np.pad(Z[a].reshape(h,w), ((0,1),(0,1)), mode='constant')\n",
    "        ax.imshow(c, interpolation='none', cmap=plt.cm.gray_r) #binary, nearest, bicubic, bilinear\n",
    "        plt.xticks([]), plt.yticks([])\n",
    "    plt.show()\n",
    "\n",
    "\n",
    "printAlphabet(dd, font_y, font_x)"
   ]
  },
  {
   "cell_type": "markdown",
   "metadata": {
    "deletable": true,
    "editable": true
   },
   "source": [
    "<b>Code for Subroutines used by both Types of Heatmap Algorithms</b>"
   ]
  },
  {
   "cell_type": "code",
   "execution_count": 4,
   "metadata": {
    "collapsed": true,
    "deletable": true,
    "editable": true
   },
   "outputs": [],
   "source": [
    "def calcheatmap(zzz):\n",
    "   lll = []\n",
    "   for zz in zzz:\n",
    "      zz_ = list(itertools.chain.from_iterable(zz))\n",
    "      i = np.mean(zz_, axis=0)\n",
    "      lll.append(i)\n",
    "   return lll\n",
    "\n",
    "def printheatmap(lll,x,y):\n",
    "   plt.imshow(np.array(lll).reshape(x,y), cmap=plt.cm.binary, interpolation='none') #interpolation='spline36') \n",
    "   plt.colorbar()\n",
    "   plt.show()\n",
    "    \n",
    "def nthPerm(n,elems,z):#with n from 0\n",
    "   if(len(elems) == 1):\n",
    "      z.append(elems[0])\n",
    "   else:\n",
    "      sizeGroup = factorial(len(elems)-1)\n",
    "      q,r = divmod(n,sizeGroup)\n",
    "      v = elems[q]\n",
    "      elems.remove(v)\n",
    "      z.append(v)\n",
    "      nthPerm(r,elems,z)\n"
   ]
  },
  {
   "cell_type": "markdown",
   "metadata": {
    "deletable": true,
    "editable": true
   },
   "source": [
    "<b>Type 1 (\"normal\") Heatmap</b>"
   ]
  },
  {
   "cell_type": "code",
   "execution_count": 5,
   "metadata": {
    "collapsed": true,
    "deletable": true,
    "editable": true
   },
   "outputs": [],
   "source": [
    "def sigirinc(a, chk, depth, p, per, d, z):\n",
    "   b = []\n",
    "   for x in a:\n",
    "      if d[x][per[depth]] == chk:\n",
    "         b.append(x)\n",
    "   if len(b) > 0:\n",
    "      p[per[depth]]=log(len(a)*1./len(b),2)\n",
    "      if depth == len(d[0])-1: \n",
    "         assert (len(b)==1),\"more than one element at end of path!!!\"\n",
    "         z[b[0]] = p \n",
    "      else:\n",
    "         c = list(b)\n",
    "         q = list(p)\n",
    "         sigirinc(b, 0, depth+1, p, per, d, z)\n",
    "         sigirinc(c, 1, depth+1, q, per, d, z)\n",
    "\n",
    "def checkalph(d, anz):\n",
    "   s = range(len(d))\n",
    "   zi = []\n",
    "   counter = 0\n",
    "   gesamt = factorial(len(d[0]))\n",
    "   if(factorial(len(d[0]))<anz):\n",
    "      anz = factorial(len(d[0]))\n",
    "   step = int(factorial(len(d[0]))/anz)\n",
    "   for x in xrange(anz):\n",
    "      i = random.randint(0,gesamt-1)\n",
    "      permi = []\n",
    "      nthPerm(i, list(range(len(d[0]))), permi)\n",
    "      p=list(range(len(d[0])))\n",
    "      q=list(range(len(d[0])))\n",
    "      z = list(range(len(s)))\n",
    "      sigirinc(s, 0, 0, p, permi, d, z)\n",
    "      sigirinc(s, 1, 0, q, permi, d, z)\n",
    "      zi.append(z)\n",
    "      counter += 1\n",
    "      if counter%(anz/100)==0:\n",
    "         sys.stdout.write(\"%s\" % '.') \n",
    "         sys.stdout.flush()\n",
    "   return zi"
   ]
  },
  {
   "cell_type": "code",
   "execution_count": 6,
   "metadata": {
    "collapsed": false,
    "deletable": true,
    "editable": true
   },
   "outputs": [
    {
     "name": "stdout",
     "output_type": "stream",
     "text": [
      "....................................................................................................29.7436010838\n"
     ]
    }
   ],
   "source": [
    "cycles = 10000\n",
    "t = time.time()\n",
    "zz = checkalph(dd, cycles)\n",
    "zzz = []\n",
    "zzz.append(zz)\n",
    "ggg = calcheatmap(zzz)\n",
    "print(time.time()-t)"
   ]
  },
  {
   "cell_type": "code",
   "execution_count": 7,
   "metadata": {
    "collapsed": false,
    "deletable": true,
    "editable": true
   },
   "outputs": [
    {
     "name": "stderr",
     "output_type": "stream",
     "text": [
      "/System/Library/Frameworks/Python.framework/Versions/2.7/Extras/lib/python/matplotlib/collections.py:548: FutureWarning: elementwise comparison failed; returning scalar instead, but in the future will perform elementwise comparison\n",
      "  if self._edgecolors == 'face':\n"
     ]
    },
    {
     "data": {
      "image/png": "[encoded data removed]",
      "text/plain": [
       "<matplotlib.figure.Figure at 0x10b976d50>"
      ]
     },
     "metadata": {},
     "output_type": "display_data"
    }
   ],
   "source": [
    "printheatmap(ggg,font_y,font_x)"
   ]
  },
  {
   "cell_type": "markdown",
   "metadata": {
    "deletable": true,
    "editable": true
   },
   "source": [
    "<b>Type 2 (\"positional\") Heatmap</b>"
   ]
  },
  {
   "cell_type": "code",
   "execution_count": 8,
   "metadata": {
    "collapsed": true,
    "deletable": true,
    "editable": true
   },
   "outputs": [],
   "source": [
    "def sigirincPOS(bux, a, chk, depth, p, per, d, z):\n",
    "   b = []   \n",
    "   for x in a: \n",
    "      if d[bux][int(fmod(x+per[depth]-per[0]+len(d[0]), len(d[0])))] == chk: \n",
    "         b.append(x)\n",
    "   if len(b) > 0:\n",
    "      p[per[depth]]=log(len(a)*1./len(b),2)\n",
    "      if depth == len(d[0])-1: \n",
    "         assert (len(b)==1),\"more than one element at end of path!!!\"\n",
    "         n = b[0]-per[0]\n",
    "         z.append(p[-n:] + p[:-n])\n",
    "      else:\n",
    "         c = list(b)\n",
    "         q = list(p)\n",
    "         sigirincPOS(bux, b, 0, depth+1, p, per, d, z)\n",
    "         sigirincPOS(bux, c, 1, depth+1, q, per, d, z)\n",
    "\n",
    "def checkalphPOS(d, anz):\n",
    "   #s = range(len(d)) # länge alphabet 0..1 also 2\n",
    "   posi = range(len(d[0])) # länge buchstabe 0..25 in pixeln\n",
    "   zi = []\n",
    "   counter = 0\n",
    "   gesamt = factorial(len(d[0])) #25!\n",
    "   if(factorial(len(d[0]))<anz):\n",
    "      anz = factorial(len(d[0]))\n",
    "   for x in xrange(anz): ### 0..10000\n",
    "      i = random.randint(0, gesamt-1) # von 0..25!\n",
    "      permi = []\n",
    "      nthPerm(i, list(range(len(d[0]))), permi) # liste von 0..25 rein ...\n",
    "        ###todo: für JEDEN Buchstaben...\n",
    "      for a in range(len(d)):\n",
    "         p=list(range(len(d[0]))) # 0..25, sammel-liste f. 0er (es gibt 25x Aufdeckung!)\n",
    "         ##p = list([0. for v in range(len(d[0]))])\n",
    "         q=list(range(len(d[0]))) # 0..25, sammel-liste f. 1ser (es gibt 25x Aufdeckung!)\n",
    "         ##q = list([0. for v in range(len(d[0]))])\n",
    "         #z = list(range(len(d[0]))) # 0..25 also, liste \"noch\" möglicher POSITIONEN!!! ###SOLLTE DOCH EHER BUCHSTABEN SEIN?!\n",
    "         ###Variante1: \n",
    "         z = [] \n",
    "         ###Variante2:\n",
    "         #nix --- x = [[3 for i in range(5)] for j in range(10)]\n",
    "         ###Normal\n",
    "         #z = list([0. for v in range(len(d[0]))])\n",
    "         sigirincPOS(a, posi, 0, 0, p, permi, d, z) # s-alle mgl. buchstaben, als index-liste\n",
    "         sigirincPOS(a, posi, 1, 0, q, permi, d, z) \n",
    "         zi.append(z)\n",
    "        ##einruck-endte\n",
    "      counter += 1\n",
    "      if counter%(anz/100)==0:\n",
    "         sys.stdout.write(\"%s\" % '.') \n",
    "         sys.stdout.flush()\n",
    "   return zi\n"
   ]
  },
  {
   "cell_type": "code",
   "execution_count": 9,
   "metadata": {
    "collapsed": false,
    "deletable": true,
    "editable": true
   },
   "outputs": [
    {
     "name": "stdout",
     "output_type": "stream",
     "text": [
      "....................................................................................................267.619527102\n"
     ]
    }
   ],
   "source": [
    "cyclesPOS = 1000\n",
    "t = time.time()\n",
    "pp = checkalphPOS(dd, cyclesPOS)\n",
    "ppp = []\n",
    "ppp.append(pp)\n",
    "hhh = calcheatmap(ppp)\n",
    "print(time.time()-t)"
   ]
  },
  {
   "cell_type": "code",
   "execution_count": 10,
   "metadata": {
    "collapsed": false,
    "deletable": true,
    "editable": true
   },
   "outputs": [
    {
     "data": {
      "image/png": "[encoded data removed]",
      "text/plain": [
       "<matplotlib.figure.Figure at 0x10b319890>"
      ]
     },
     "metadata": {},
     "output_type": "display_data"
    }
   ],
   "source": [
    "printheatmap(hhh,font_y,font_x)"
   ]
  },
  {
   "cell_type": "markdown",
   "metadata": {},
   "source": [
    "<b>Addition of Type1 & Type2 Heatmaps</b>"
   ]
  },
  {
   "cell_type": "code",
   "execution_count": 11,
   "metadata": {
    "collapsed": false,
    "deletable": true,
    "editable": true
   },
   "outputs": [
    {
     "data": {
      "image/png": "[encoded data removed]",
      "text/plain": [
       "<matplotlib.figure.Figure at 0x10b3cc5d0>"
      ]
     },
     "metadata": {},
     "output_type": "display_data"
    }
   ],
   "source": [
    "jjj = np.add(ggg, hhh)\n",
    "printheatmap(jjj,font_y,font_x)"
   ]
  },
  {
   "cell_type": "code",
   "execution_count": null,
   "metadata": {
    "collapsed": true,
    "deletable": true,
    "editable": true
   },
   "outputs": [],
   "source": []
  }
 ],
 "metadata": {
  "kernelspec": {
   "display_name": "Python 2",
   "language": "python",
   "name": "python2"
  },
  "language_info": {
   "codemirror_mode": {
    "name": "ipython",
    "version": 2
   },
   "file_extension": ".py",
   "mimetype": "text/x-python",
   "name": "python",
   "nbconvert_exporter": "python",
   "pygments_lexer": "ipython2",
   "version": "2.7.10"
  }
 },
 "nbformat": 4,
 "nbformat_minor": 2
}
